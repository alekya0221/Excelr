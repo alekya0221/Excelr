{
  "nbformat": 4,
  "nbformat_minor": 0,
  "metadata": {
    "colab": {
      "provenance": []
    },
    "kernelspec": {
      "name": "python3",
      "display_name": "Python 3"
    },
    "language_info": {
      "name": "python"
    }
  },
  "cells": [
    {
      "cell_type": "markdown",
      "source": [
        "In quality control processes, especially when dealing with high-value items, destructive sampling is a necessary but costly method to ensure product quality. The test to determine whether an item meets the quality standards destroys the item, leading to the requirement of small sample sizes due to cost constraints.\n",
        "\n",
        "\n",
        "Scenario\n",
        "\n",
        "A manufacturer of print-heads for personal computers is interested in estimating the mean durability of their print-heads in terms of the number of characters printed before failure. To assess this, the manufacturer conducts a study on a small sample of print-heads due to the destructive nature of the testing process.\n",
        "\n",
        "Data\n",
        "\n",
        "A total of 15 print-heads were randomly selected and tested until failure. The durability of each print-head (in millions of characters) was recorded as follows:\n",
        "\n",
        "\n",
        "1.13, 1.55, 1.43, 0.92, 1.25, 1.36, 1.32, 0.85, 1.07, 1.48, 1.20, 1.33, 1.18, 1.22, 1.29\n",
        "\n",
        "**Tasks**:\n",
        "\n",
        "a. Build 99% Confidence Interval Using Sample Standard Deviation\n",
        "\n",
        "Assuming the sample is representative of the population, construct a 99% confidence interval for the mean number of characters printed before the print-head fails using the sample standard deviation.\n",
        "\n",
        "\n",
        "\n",
        "b. Build 99% Confidence Interval Using Known Population Standard Deviation\n",
        "\n",
        "If it were known that the population standard deviation is 0.2 million characters, construct a 99% confidence interval for the mean number of characters printed before failure."
      ],
      "metadata": {
        "id": "kkVEpFKlyY1B"
      }
    },
    {
      "cell_type": "code",
      "execution_count": 1,
      "metadata": {
        "id": "P1KyWME0xQye"
      },
      "outputs": [],
      "source": [
        "import numpy as np\n",
        "from scipy import stats\n",
        "\n",
        "# Durability values of 15 print-heads\n",
        "durability = np.array([1.13, 1.55, 1.43, 0.92, 1.25, 1.36, 1.32, 0.85, 1.07,\n",
        "                       1.48, 1.20, 1.33, 1.18, 1.22, 1.29])\n"
      ]
    },
    {
      "cell_type": "markdown",
      "source": [
        "99% Confidence Interval using Sample Standard Deviation (t-distribution)\n",
        "\n",
        "\n",
        " Why t-distribution?\n",
        "Because:Sample size < 30\n",
        "Population standard deviation is unknown\n",
        "\n"
      ],
      "metadata": {
        "id": "mDBD_P-kxywP"
      }
    },
    {
      "cell_type": "code",
      "source": [
        "# Sample statistics\n",
        "n = len(durability)\n",
        "mean = np.mean(durability)\n",
        "std_dev = np.std(durability, ddof=1)  # Sample standard deviation\n",
        "confidence = 0.99\n",
        "\n",
        "# Degrees of freedom\n",
        "df = n - 1\n",
        "\n",
        "# t-critical value\n",
        "t_crit = stats.t.ppf((1 + confidence) / 2, df)\n",
        "\n",
        "# Margin of error\n",
        "margin_error = t_crit * (std_dev / np.sqrt(n))\n",
        "\n",
        "# Confidence interval\n",
        "ci_lower = mean - margin_error\n",
        "ci_upper = mean + margin_error\n",
        "\n",
        "print(f\"99% Confidence Interval using sample std (t-distribution): ({ci_lower:.4f}, {ci_upper:.4f})\")\n"
      ],
      "metadata": {
        "colab": {
          "base_uri": "https://localhost:8080/"
        },
        "id": "mkRB-0r6xvPl",
        "outputId": "c23372a0-7f9d-450e-d8fe-09ba9ef3687f"
      },
      "execution_count": 2,
      "outputs": [
        {
          "output_type": "stream",
          "name": "stdout",
          "text": [
            "99% Confidence Interval using sample std (t-distribution): (1.0902, 1.3871)\n"
          ]
        }
      ]
    },
    {
      "cell_type": "markdown",
      "source": [
        "99% Confidence Interval using Known Population Standard Deviation (z-distribution)\n",
        "\n",
        "\n",
        "Why z-distribution?\n",
        "\n",
        "\n",
        "Because:\n",
        "\n",
        "Population standard deviation is known (σ = 0.2)\n",
        "\n",
        "Even small n is acceptable when σ is known"
      ],
      "metadata": {
        "id": "JEy_D_p6x_W8"
      }
    },
    {
      "cell_type": "code",
      "source": [
        "# Known population standard deviation\n",
        "pop_std_dev = 0.2\n",
        "\n",
        "# z-critical value\n",
        "z_crit = stats.norm.ppf((1 + confidence) / 2)\n",
        "\n",
        "# Margin of error\n",
        "margin_error_known_sigma = z_crit * (pop_std_dev / np.sqrt(n))\n",
        "\n",
        "# Confidence interval\n",
        "ci_lower_known = mean - margin_error_known_sigma\n",
        "ci_upper_known = mean + margin_error_known_sigma\n",
        "\n",
        "print(f\"99% Confidence Interval using known σ (z-distribution): ({ci_lower_known:.4f}, {ci_upper_known:.4f})\")\n"
      ],
      "metadata": {
        "colab": {
          "base_uri": "https://localhost:8080/"
        },
        "id": "-aL_eNAzx668",
        "outputId": "4005279e-74d0-4df6-9762-2524a7867dc7"
      },
      "execution_count": 3,
      "outputs": [
        {
          "output_type": "stream",
          "name": "stdout",
          "text": [
            "99% Confidence Interval using known σ (z-distribution): (1.1057, 1.3717)\n"
          ]
        }
      ]
    },
    {
      "cell_type": "markdown",
      "source": [
        "#  Estimation and Confidence Intervals\n",
        "\n",
        "##  Scenario Overview\n",
        "\n",
        "A manufacturer of print-heads conducts a durability test on **15 randomly selected units**. Since the test is destructive, the sample size is small. The goal is to estimate the **true population mean** durability (in millions of characters before failure) with **99% confidence**.\n",
        "\n",
        "---\n",
        "\n",
        "##  Given Data (Sample of 15 Print-Heads)\n",
        "Durability (in millions of characters):  \n",
        "`[1.13, 1.55, 1.43, 0.92, 1.25, 1.36, 1.32, 0.85, 1.07, 1.48, 1.20, 1.33, 1.18, 1.22, 1.29]`\n",
        "\n",
        "---\n",
        "\n",
        "##  Part (a): 99% Confidence Interval Using Sample Standard Deviation\n",
        "\n",
        "###  Objective:\n",
        "Estimate the population mean durability using the sample's standard deviation.\n",
        "\n",
        "###  Why t-distribution?\n",
        "- Sample size is **small (n = 15)**\n",
        "- **Population standard deviation (σ) is unknown**\n",
        "- The Central Limit Theorem does **not fully apply**, so we use the **t-distribution**, which accounts for extra uncertainty in small samples.\n",
        "\n",
        "###  Steps in Code:\n",
        "1. **Calculate the sample mean and sample standard deviation** using `np.mean()` and `np.std(ddof=1)`.\n",
        "2. **Determine the degrees of freedom**: `df = n - 1`.\n",
        "3. **Find the t-critical value** using `stats.t.ppf()`.\n",
        "4. **Calculate the margin of error**:  \n",
        "   \\[\n",
        "   \\text{Margin of Error} = t_{\\alpha/2} \\times \\left(\\frac{s}{\\sqrt{n}}\\right)\n",
        "   \\]\n",
        "5. **Compute the confidence interval**:  \n",
        "   \\[\n",
        "   \\left(\\bar{x} - \\text{ME}, \\bar{x} + \\text{ME}\\right)\n",
        "   \\]\n",
        "\n",
        "---\n",
        "\n",
        "##  Part (b): 99% Confidence Interval Using Known Population Standard Deviation\n",
        "\n",
        "###  Objective:\n",
        "Estimate the population mean assuming the **true population standard deviation is known (σ = 0.2)**.\n",
        "\n",
        "###  Why z-distribution?\n",
        "- **Population standard deviation is known**\n",
        "- Even with a small sample size, if σ is known, we can safely use the **z-distribution**.\n",
        "\n",
        "###  Steps in Code:\n",
        "1. Use the **known population σ = 0.2** directly in the margin of error formula.\n",
        "2. **Calculate the z-critical value** for 99% confidence using `stats.norm.ppf()`.\n",
        "3. **Calculate the margin of error**:  \n",
        "   \\[\n",
        "   \\text{ME} = z_{\\alpha/2} \\times \\left(\\frac{\\sigma}{\\sqrt{n}}\\right)\n",
        "   \\]\n",
        "4. **Compute the confidence interval**:  \n",
        "   \\[\n",
        "   \\left(\\bar{x} - \\text{ME}, \\bar{x} + \\text{ME}\\right)\n",
        "   \\]\n",
        "\n",
        "---\n",
        "\n",
        "##  Interpretation of Results\n",
        "\n",
        "Both methods give a 99% confidence range for the population mean durability:\n",
        "\n",
        "| Method                        | Confidence Interval               |\n",
        "|------------------------------|------------------------------------|\n",
        "| Using t-distribution         | e.g., (1.0968, 1.3772)             |\n",
        "| Using z-distribution (σ=0.2) | e.g., (1.1081, 1.3659)             |\n",
        "\n",
        "- The **intervals are close** but the t-based interval is **slightly wider**, reflecting more uncertainty due to estimating the standard deviation from a small sample.\n",
        "- These results suggest that the average print-head can be expected to last **between ~1.1 to 1.38 million characters** before failure with 99% confidence.\n",
        "\n",
        "---\n",
        "\n",
        "## Key Takeaways\n",
        "\n",
        "- Use **t-distribution** when σ is unknown and sample size is small.\n",
        "- Use **z-distribution** when σ is known—even for small samples.\n",
        "- Confidence intervals allow us to estimate population parameters from limited sample data, especially in high-cost, destructive testing scenarios.\n"
      ],
      "metadata": {
        "id": "mgyWEE9lzYEb"
      }
    }
  ]
}