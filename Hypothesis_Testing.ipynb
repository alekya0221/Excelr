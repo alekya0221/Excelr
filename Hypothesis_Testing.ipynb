{
  "nbformat": 4,
  "nbformat_minor": 0,
  "metadata": {
    "colab": {
      "provenance": []
    },
    "kernelspec": {
      "name": "python3",
      "display_name": "Python 3"
    },
    "language_info": {
      "name": "python"
    }
  },
  "cells": [
    {
      "cell_type": "markdown",
      "source": [
        "# Hypothesis Testing – Weekly Operating Cost Analysis\n",
        "\n",
        "## Background:\n",
        "Bombay Hospitality Ltd. operates a franchise model. The theoretical weekly operating cost (W) is:\n",
        "\n",
        "W = ₹1,000 + ₹5 * X\n",
        "\n",
        "where **X** is the number of units produced per week. X follows a normal distribution with:\n",
        "- Mean (μ_X) = 600 units\n",
        "- Standard Deviation (σ_X) = 25 units\n",
        "\n",
        "From the model:\n",
        "\n",
        "Theoretical mean cost μ = ₹1,000 + ₹5 × 600 = ₹4,000\n",
        "Population standard deviation σ = ₹5 × 25 = ₹125\n",
        "\n",
        "\n",
        "However, from a **sample of 25 restaurants**, the **sample mean weekly cost** was observed as ₹3,050.  \n",
        "We will use **hypothesis testing** to check if there is enough evidence to support the restaurant owners' claim.\n",
        "\n",
        "---\n",
        "\n",
        "## Step 1: State the Hypotheses\n",
        "\n",
        "**Null Hypothesis (H₀):**  \n",
        "The actual mean weekly cost is ₹4,000.  \n",
        "H₀: μ = 4000\n",
        "\n",
        "**Alternative Hypothesis (H₁):**  \n",
        "The actual mean weekly cost is greater than ₹4,000.  \n",
        "H₁: μ > 4000\n",
        "\n",
        "---\n",
        "\n",
        "## Step 2: Calculate the Test Statistic\n",
        "\n",
        "We use the z-test formula:\n",
        "z = (x̄ - μ) / (σ / √n)\n",
        "\n",
        "Where:\n",
        "- x̄ = 3050 (sample mean)\n",
        "- μ = 4000 (theoretical mean)\n",
        "- σ = 125 (population std. dev.)\n",
        "- n = 25 (sample size)\n",
        "\n",
        "\n",
        "\n",
        "\n"
      ],
      "metadata": {
        "id": "jAHyeugV31IE"
      }
    },
    {
      "cell_type": "code",
      "source": [
        "import math\n",
        "\n",
        "sample_mean = 3050\n",
        "theoretical_mean = 4000\n",
        "population_std = 125\n",
        "sample_size = 25"
      ],
      "metadata": {
        "id": "MOtN4C-U4Fyv"
      },
      "execution_count": 1,
      "outputs": []
    },
    {
      "cell_type": "code",
      "source": [
        "# Z-test statistic\n",
        "z = (sample_mean - theoretical_mean) / (population_std / math.sqrt(sample_size))\n",
        "print(\"Z-test statistic:\", z)"
      ],
      "metadata": {
        "colab": {
          "base_uri": "https://localhost:8080/"
        },
        "id": "xLkUxB5E4Hdy",
        "outputId": "1717d18a-d5e3-41be-c0e3-7caeeb4c5898"
      },
      "execution_count": 2,
      "outputs": [
        {
          "output_type": "stream",
          "name": "stdout",
          "text": [
            "Z-test statistic: -38.0\n"
          ]
        }
      ]
    },
    {
      "cell_type": "markdown",
      "source": [
        "Step 3: Determine the Critical Value\n",
        "We are using a right-tailed test with α = 0.05.\n",
        "\n",
        "From the Z-distribution table, the critical z-value at 5% significance level is:\n",
        "\n",
        "Z_critical = -1.645  (since sample mean is lower than theoretical)\n"
      ],
      "metadata": {
        "id": "EwrhRHld4NOZ"
      }
    },
    {
      "cell_type": "markdown",
      "source": [
        "Step 4: Make a Decision\n",
        "If z < Z_critical, reject the null hypothesis."
      ],
      "metadata": {
        "id": "-9zCwuC_4YDq"
      }
    },
    {
      "cell_type": "code",
      "source": [
        "z_critical = 1.645  # For α = 0.05 in a one-tailed (right-tailed) test\n",
        "\n",
        "if z > z_critical:\n",
        "    print(\"Reject the null hypothesis: Weekly cost is significantly higher.\")\n",
        "else:\n",
        "    print(\"Fail to reject the null hypothesis: No significant evidence of increased weekly cost.\")\n"
      ],
      "metadata": {
        "colab": {
          "base_uri": "https://localhost:8080/"
        },
        "id": "CGyxAZaS4KcT",
        "outputId": "60fcfb38-292c-4c0a-9d52-95049d3af8ee"
      },
      "execution_count": 6,
      "outputs": [
        {
          "output_type": "stream",
          "name": "stdout",
          "text": [
            "Fail to reject the null hypothesis: No significant evidence of increased weekly cost.\n"
          ]
        }
      ]
    },
    {
      "cell_type": "markdown",
      "source": [
        "Step 5: Decision and Conclusion\n",
        "Since Z = -38.0 < 1.645, we fail to reject the null hypothesis.\n",
        "\n",
        "**Conclusion:**\n",
        "\n",
        "There is no statistical evidence to support the claim that the weekly operating costs are higher than what the model suggests. In fact, the costs appear significantly lower based on this sample.\n",
        "\n",
        "**Explanation:**\n",
        "Since the alternative hypothesis is μ > 4000, we are performing a right-tailed test.\n",
        "\n",
        "We reject H₀ if the calculated Z > Zₐ (1.645).\n",
        "\n",
        "In our case, Z = -38.0, so it's not greater than 1.645 → hence we fail to reject H₀.\n",
        "\n"
      ],
      "metadata": {
        "id": "ixlyfp0v4d8T"
      }
    },
    {
      "cell_type": "code",
      "source": [],
      "metadata": {
        "id": "-3bUPY7-4PwJ"
      },
      "execution_count": null,
      "outputs": []
    }
  ]
}