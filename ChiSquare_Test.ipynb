{
  "nbformat": 4,
  "nbformat_minor": 0,
  "metadata": {
    "colab": {
      "provenance": []
    },
    "kernelspec": {
      "name": "python3",
      "display_name": "Python 3"
    },
    "language_info": {
      "name": "python"
    }
  },
  "cells": [
    {
      "cell_type": "markdown",
      "source": [
        "**CHI-SQUARE TEST**\n",
        "\n",
        "Association between Device Type and Customer Satisfaction\n",
        "\n",
        "Background:\n",
        "\n",
        "Mizzare Corporation has collected data on customer satisfaction levels for two types of smart home devices: Smart Thermostats and Smart Lights. They want to determine if there's a significant association between the type of device purchased and the customer's satisfaction level.\n",
        "\n",
        "Data Provided:\n",
        "\n",
        "The data is summarized in a contingency table showing the counts of customers in each satisfaction level for both types of devices:\n",
        "\n",
        "Satisfaction\tSmart Thermostat\tSmart Light\tTotal\n",
        "Very Satisfied\t50\t70\t120\n",
        "Satisfied\t80\t100\t180\n",
        "Neutral\t60\t90\t150\n",
        "Unsatisfied\t30\t50\t80\n",
        "Very Unsatisfied\t20\t50\t70\n",
        "Total\t240\t360\t600\n",
        "\n",
        "\n",
        "Objective:\n",
        "\n",
        "To use the Chi-Square test for independence to determine if there's a significant association between the type of smart home device purchased (Smart Thermostats vs. Smart Lights) and the customer satisfaction level.\n",
        "\n",
        "Assignment Tasks:\n",
        "\n",
        "1. State the Hypotheses:\n",
        "2. Compute the Chi-Square Statistic:\n",
        "3. Determine the Critical Value:\n",
        "Using the significance level (alpha) of 0.05 and the degrees of freedom (which is the number of categories minus 1)\n",
        "4. Make a Decision:\n",
        "Compare the Chi-Square statistic with the critical value to decide whether to reject the null hypothesis.\n",
        "Submission Guidelines:\n",
        "•\tProvide a detailed report of your analysis, including each step outlined in the assignment tasks in a python file.\n",
        "•\tInclude all calculations, the Chi-Square statistic, the critical value, and your conclusion.\n"
      ],
      "metadata": {
        "id": "yVuuAT-W6pHX"
      }
    },
    {
      "cell_type": "markdown",
      "source": [
        "**Chi-Square Test for Independence**\n",
        "Association Between Device Type and Customer Satisfaction\n",
        "\n",
        "1. Hypotheses\n",
        "\n",
        "- Null Hypothesis (H₀):\n",
        "There is no association between the type of smart home device (Smart Thermostat or Smart Light) and customer satisfaction levels.\n",
        "\n",
        "- Alternative Hypothesis (H₁):\n",
        "There is a significant association between the device type and customer satisfaction levels."
      ],
      "metadata": {
        "id": "r-6JlHb57NMw"
      }
    },
    {
      "cell_type": "markdown",
      "source": [
        "**2. Data Input & Chi-Square Statistic Calculation**\n",
        "\n",
        "This step calculates the Chi-Square statistic, p-value, degrees of freedom, and expected frequencies for each cell under the assumption of independence."
      ],
      "metadata": {
        "id": "pFKEQ0by7ZlP"
      }
    },
    {
      "cell_type": "code",
      "source": [
        "import pandas as pd\n",
        "import numpy as np\n",
        "from scipy.stats import chi2_contingency, chi2\n",
        "\n",
        "# Step 1: Creating the contingency table\n",
        "data = {\n",
        "    \"Smart Thermostat\": [50, 80, 60, 30, 20],\n",
        "    \"Smart Light\": [70, 100, 90, 50, 50]\n",
        "}\n",
        "index = [\"Very Satisfied\", \"Satisfied\", \"Neutral\", \"Unsatisfied\", \"Very Unsatisfied\"]\n",
        "df = pd.DataFrame(data, index=index)\n",
        "\n",
        "# Step 2: Perform Chi-Square Test\n",
        "chi2_stat, p_val, dof, expected = chi2_contingency(df)\n"
      ],
      "metadata": {
        "id": "8DzIPHB065z6"
      },
      "execution_count": 2,
      "outputs": []
    },
    {
      "cell_type": "markdown",
      "source": [
        "**3. Determine the Critical Value (α = 0.05)**\n",
        "\n",
        "Degrees of freedom:\n",
        "𝑑\n",
        "𝑓 =(rows−1)×(columns−1)=(5−1)×(2−1)=4\n",
        "\n",
        "Using a chi-square distribution table, the critical value at\n",
        "𝛼\n",
        "=\n",
        "0.05\n",
        "α=0.05 for 4 degrees of freedom is:\n",
        "\n",
        "Critical Value ≈ 9.488"
      ],
      "metadata": {
        "id": "xgzd083I7hK8"
      }
    },
    {
      "cell_type": "code",
      "source": [
        "alpha = 0.05\n",
        "critical_value = chi2.ppf(q=1 - alpha, df=dof)\n"
      ],
      "metadata": {
        "id": "dFH89u7v7cGC"
      },
      "execution_count": 3,
      "outputs": []
    },
    {
      "cell_type": "markdown",
      "source": [
        "**4. Decision Rule**\n",
        "\n",
        "\n",
        "Compare the test statistic with the critical value:\n",
        "\n",
        "If\n",
        "X stat 2 > X critical 2\n",
        "\n",
        " : Reject H₀\n",
        "\n",
        "Otherwise: Fail to reject H₀"
      ],
      "metadata": {
        "id": "F_3yKaQZ7-nf"
      }
    },
    {
      "cell_type": "code",
      "source": [
        "if chi2_stat > critical_value:\n",
        "    print(\"Reject the null hypothesis.\")\n",
        "else:\n",
        "    print(\"Fail to reject the null hypothesis.\")\n"
      ],
      "metadata": {
        "colab": {
          "base_uri": "https://localhost:8080/"
        },
        "id": "xD1vxINI78rw",
        "outputId": "6b9bdd5c-9258-4058-eee3-6402a79e7a74"
      },
      "execution_count": 4,
      "outputs": [
        {
          "output_type": "stream",
          "name": "stdout",
          "text": [
            "Fail to reject the null hypothesis.\n"
          ]
        }
      ]
    },
    {
      "cell_type": "markdown",
      "source": [
        "**5. Results & Conclusion**"
      ],
      "metadata": {
        "id": "YTcXzD7L8g43"
      }
    },
    {
      "cell_type": "code",
      "source": [
        "print(\"Chi-Square Statistic:\", chi2_stat)\n",
        "print(\"Degrees of Freedom:\", dof)\n",
        "print(\"Critical Value at α = 0.05:\", critical_value)\n",
        "print(\"P-Value:\", p_val)\n",
        "print(\"Expected Frequencies Table:\\n\", expected)\n"
      ],
      "metadata": {
        "colab": {
          "base_uri": "https://localhost:8080/"
        },
        "id": "UdPGsVWn8AfY",
        "outputId": "1b7be859-de63-4550-bfdc-a70ddf911833"
      },
      "execution_count": 5,
      "outputs": [
        {
          "output_type": "stream",
          "name": "stdout",
          "text": [
            "Chi-Square Statistic: 5.638227513227513\n",
            "Degrees of Freedom: 4\n",
            "Critical Value at α = 0.05: 9.487729036781154\n",
            "P-Value: 0.22784371130697179\n",
            "Expected Frequencies Table:\n",
            " [[ 48.  72.]\n",
            " [ 72. 108.]\n",
            " [ 60.  90.]\n",
            " [ 32.  48.]\n",
            " [ 28.  42.]]\n"
          ]
        }
      ]
    },
    {
      "cell_type": "markdown",
      "source": [
        "**Conclusion:**\n",
        "We fail to reject the null hypothesis because the chi-square statistic is less than the critical value, and the p-value is greater than 0.05.\n",
        "\n",
        "\n",
        "**Interpretation:**\n",
        "There is no significant association between the type of smart device purchased and customer satisfaction levels based on the given data."
      ],
      "metadata": {
        "id": "_Ezaz8Vf8lfV"
      }
    },
    {
      "cell_type": "code",
      "source": [],
      "metadata": {
        "id": "KWrm5hj78i2M"
      },
      "execution_count": null,
      "outputs": []
    }
  ]
}