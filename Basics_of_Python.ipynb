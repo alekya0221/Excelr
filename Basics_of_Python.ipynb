{
  "cells": [
    {
      "cell_type": "markdown",
      "id": "dadcb58a",
      "metadata": {
        "id": "dadcb58a"
      },
      "source": [
        "\n",
        "### Exercise 1: Prime Numbers\n",
        "\n",
        "A prime number is a natural number greater than 1 that has no positive divisors other than 1 and itself.\n",
        "This program checks whether a given number is prime.\n"
      ]
    },
    {
      "cell_type": "code",
      "execution_count": 6,
      "id": "147c7a80",
      "metadata": {
        "colab": {
          "base_uri": "https://localhost:8080/"
        },
        "id": "147c7a80",
        "outputId": "0be95caf-09f8-480a-b23a-cb6f4dea5b49"
      },
      "outputs": [
        {
          "output_type": "stream",
          "name": "stdout",
          "text": [
            "Enter a number to check if it is prime: 12\n",
            "12 is not a prime number\n"
          ]
        }
      ],
      "source": [
        "\n",
        "def is_prime(n):\n",
        "    \"\"\"Check if a number is a prime.\"\"\"\n",
        "    if n <= 1:\n",
        "        return False\n",
        "    for i in range(2, int(n**0.5)+1):\n",
        "        if n % i == 0:\n",
        "            return False\n",
        "    return True\n",
        "\n",
        "# Example usage\n",
        "num = int(input(\"Enter a number to check if it is prime: \"))\n",
        "print(f\"{num} is {'a prime number' if is_prime(num) else 'not a prime number'}\")\n"
      ]
    },
    {
      "cell_type": "markdown",
      "id": "5efc2309",
      "metadata": {
        "id": "5efc2309"
      },
      "source": [
        "\n",
        "### Exercise 2: Product of Random Numbers\n",
        "\n",
        "This program generates two random numbers, asks the user to enter their product, and checks if the answer is correct.\n"
      ]
    },
    {
      "cell_type": "code",
      "execution_count": 8,
      "id": "7686c6a5",
      "metadata": {
        "colab": {
          "base_uri": "https://localhost:8080/"
        },
        "id": "7686c6a5",
        "outputId": "149590c7-39f7-401b-9911-50b396090725"
      },
      "outputs": [
        {
          "output_type": "stream",
          "name": "stdout",
          "text": [
            "What is the product of 6 and 10?\n",
            "Your answer: 56\n",
            "Wrong. The correct answer is 60.\n"
          ]
        }
      ],
      "source": [
        "\n",
        "import random\n",
        "\n",
        "num1 = random.randint(1, 10)\n",
        "num2 = random.randint(1, 10)\n",
        "correct_answer = num1 * num2\n",
        "\n",
        "print(f\"What is the product of {num1} and {num2}?\")\n",
        "user_answer = int(input(\"Your answer: \"))\n",
        "\n",
        "if user_answer == correct_answer:\n",
        "    print(\"Correct!\")\n",
        "else:\n",
        "    print(f\"Wrong. The correct answer is {correct_answer}.\")\n"
      ]
    },
    {
      "cell_type": "markdown",
      "id": "ba67caa0",
      "metadata": {
        "id": "ba67caa0"
      },
      "source": [
        "\n",
        "### Exercise 3: Squares of Even/Odd Numbers\n",
        "\n",
        "This script prints the squares of all odd numbers within the range of 100 to 200.\n",
        "We chose odd numbers for this example.\n"
      ]
    },
    {
      "cell_type": "code",
      "execution_count": 3,
      "id": "c1414740",
      "metadata": {
        "colab": {
          "base_uri": "https://localhost:8080/"
        },
        "id": "c1414740",
        "outputId": "de0a937d-11cf-45f7-dae3-f801ead0c891"
      },
      "outputs": [
        {
          "output_type": "stream",
          "name": "stdout",
          "text": [
            "The square of 101 is 10201\n",
            "The square of 103 is 10609\n",
            "The square of 105 is 11025\n",
            "The square of 107 is 11449\n",
            "The square of 109 is 11881\n",
            "The square of 111 is 12321\n",
            "The square of 113 is 12769\n",
            "The square of 115 is 13225\n",
            "The square of 117 is 13689\n",
            "The square of 119 is 14161\n",
            "The square of 121 is 14641\n",
            "The square of 123 is 15129\n",
            "The square of 125 is 15625\n",
            "The square of 127 is 16129\n",
            "The square of 129 is 16641\n",
            "The square of 131 is 17161\n",
            "The square of 133 is 17689\n",
            "The square of 135 is 18225\n",
            "The square of 137 is 18769\n",
            "The square of 139 is 19321\n",
            "The square of 141 is 19881\n",
            "The square of 143 is 20449\n",
            "The square of 145 is 21025\n",
            "The square of 147 is 21609\n",
            "The square of 149 is 22201\n",
            "The square of 151 is 22801\n",
            "The square of 153 is 23409\n",
            "The square of 155 is 24025\n",
            "The square of 157 is 24649\n",
            "The square of 159 is 25281\n",
            "The square of 161 is 25921\n",
            "The square of 163 is 26569\n",
            "The square of 165 is 27225\n",
            "The square of 167 is 27889\n",
            "The square of 169 is 28561\n",
            "The square of 171 is 29241\n",
            "The square of 173 is 29929\n",
            "The square of 175 is 30625\n",
            "The square of 177 is 31329\n",
            "The square of 179 is 32041\n",
            "The square of 181 is 32761\n",
            "The square of 183 is 33489\n",
            "The square of 185 is 34225\n",
            "The square of 187 is 34969\n",
            "The square of 189 is 35721\n",
            "The square of 191 is 36481\n",
            "The square of 193 is 37249\n",
            "The square of 195 is 38025\n",
            "The square of 197 is 38809\n",
            "The square of 199 is 39601\n"
          ]
        }
      ],
      "source": [
        "\n",
        "for i in range(101, 200, 2):  # Starting from 101 to get odd numbers\n",
        "    print(f\"The square of {i} is {i**2}\")\n"
      ]
    },
    {
      "cell_type": "markdown",
      "id": "fe9383a2",
      "metadata": {
        "id": "fe9383a2"
      },
      "source": [
        "\n",
        "### Exercise 4: Word Counter\n",
        "\n",
        "This program counts the occurrences of each word in a given text.\n"
      ]
    },
    {
      "cell_type": "code",
      "execution_count": 9,
      "id": "e3a41339",
      "metadata": {
        "colab": {
          "base_uri": "https://localhost:8080/"
        },
        "id": "e3a41339",
        "outputId": "18c341a4-f1f8-49be-89fa-b3e144baf664"
      },
      "outputs": [
        {
          "output_type": "stream",
          "name": "stdout",
          "text": [
            "'this': 2\n",
            "'is': 1\n",
            "'a': 1\n",
            "'sample': 1\n",
            "'text': 2\n",
            "'will': 1\n",
            "'be': 1\n",
            "'used': 1\n",
            "'to': 1\n",
            "'demonstrate': 1\n",
            "'the': 1\n",
            "'word': 1\n",
            "'counter': 1\n"
          ]
        }
      ],
      "source": [
        "from collections import Counter\n",
        "import string\n",
        "\n",
        "input_text = \"This is a sample text. This text will be used to demonstrate the word counter.\"\n",
        "\n",
        "# Remove punctuation and convert to lowercase\n",
        "clean_text = input_text.translate(str.maketrans('', '', string.punctuation)).lower()\n",
        "\n",
        "# Split into words and count\n",
        "words = clean_text.split()\n",
        "word_count = Counter(words)\n",
        "\n",
        "# Display word frequencies\n",
        "for word, count in word_count.items():\n",
        "    print(f\"'{word}': {count}\")\n"
      ]
    },
    {
      "cell_type": "markdown",
      "id": "c0ae84e9",
      "metadata": {
        "id": "c0ae84e9"
      },
      "source": [
        "\n",
        "### Exercise 5: Check for Palindrome\n",
        "\n",
        "This function checks whether a given string is a palindrome, ignoring spaces, punctuation, and capitalization.\n"
      ]
    },
    {
      "cell_type": "code",
      "execution_count": 12,
      "id": "b99d7925",
      "metadata": {
        "colab": {
          "base_uri": "https://localhost:8080/"
        },
        "id": "b99d7925",
        "outputId": "2ca6ca41-be01-493d-8968-62a25b05eff5"
      },
      "outputs": [
        {
          "output_type": "stream",
          "name": "stdout",
          "text": [
            "Enter a string to check if it's a palindrome: radar\n",
            "Palindrome!\n"
          ]
        }
      ],
      "source": [
        "\n",
        "import re\n",
        "\n",
        "def is_palindrome(s):\n",
        "    s = re.sub(r'[^A-Za-z0-9]', '', s).lower()\n",
        "    return s == s[::-1]\n",
        "\n",
        "# Example usage\n",
        "input_str = input(\"Enter a string to check if it's a palindrome: \")\n",
        "print(\"Palindrome!\" if is_palindrome(input_str) else \"Not a palindrome.\")\n"
      ]
    },
    {
      "cell_type": "code",
      "source": [],
      "metadata": {
        "id": "tBcBLKKP1npR"
      },
      "id": "tBcBLKKP1npR",
      "execution_count": null,
      "outputs": []
    }
  ],
  "metadata": {
    "colab": {
      "provenance": []
    },
    "language_info": {
      "name": "python"
    },
    "kernelspec": {
      "name": "python3",
      "display_name": "Python 3"
    }
  },
  "nbformat": 4,
  "nbformat_minor": 5
}